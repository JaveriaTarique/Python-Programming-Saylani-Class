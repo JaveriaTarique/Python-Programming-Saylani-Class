{
 "cells": [
  {
   "cell_type": "code",
   "execution_count": 44,
   "metadata": {},
   "outputs": [
    {
     "name": "stdout",
     "output_type": "stream",
     "text": [
      "The first_name is: ABC\n",
      "The last_name is: XYZ\n",
      "The age is: 26\n",
      "The city is: alphabets\n",
      "The education level is :graduate\n",
      "The elements stored in dictionary are : {'first_name': 'ABC', 'last_name': 'XYZ', 'age': 26, 'city': 'alphabets'}\n"
     ]
    }
   ],
   "source": [
    "#Question1:\n",
    "#Use a dictionary to store information about a person you know. Store their first name, last name, age, and the city in which they live. You should have keys such as first_name, last_name, age, and city. Print each piece of information stored in your dictionary. Add a new key value pair about qualification then update the qualification value to high academic level then delete it.\n",
    "#CODE\n",
    "d = {'first_name':'ABC','last_name':'XYZ','age':26,'city':'alphabets'}\n",
    "for k,v in d.items():\n",
    "    print(\"The\",k, \"is:\",d[k])\n",
    "d['education'] = 'undergraduate'\n",
    "d['education'] = 'graduate'\n",
    "print('The education level is :'+d['education'])\n",
    "d.popitem()\n",
    "print(\"The elements stored in dictionary are :\",d)"
   ]
  },
  {
   "cell_type": "code",
   "execution_count": 47,
   "metadata": {},
   "outputs": [
    {
     "name": "stdout",
     "output_type": "stream",
     "text": [
      "\n",
      "Santiago is in Chile.\n",
      "  It has a population of about 6158080.\n",
      "  It is known for  Museo Chileno De Arte Precolombino Art Museum That Has Collection Ranges From About 10,000 Years\n",
      "\n",
      "Karachi is in Pakistan.\n",
      "  It has a population of about 15741000.\n",
      "  It is known for Being The Sixith Highest Population Country In The World.\n",
      "\n",
      "Cairo is in Egypt.\n",
      "  It has a population of about 9500000.\n",
      "  It is known for  Al-Azhar University Which Is The Second-Oldest Institution Of Higher Learning In The World\n"
     ]
    }
   ],
   "source": [
    "#Question2:\n",
    "#Make a dictionary called cities. Use the names of three cities as keys in your dictionary. Create a dictionary of information about each city and include the country that the city is in, its approximate population, and one fact about that city. The keys for each city’s dictionary should be something like country, population, and fact. Print the name of each city and all of the information you have stored about it.\n",
    "#CODE\n",
    "cities = {'santiago': {'country': 'Chile','population': 6158080,'fact': ' Museo Chileno de Arte Precolombino art museum that has collection ranges from about 10,000 years'},\n",
    "'karachi' : {'country': 'Pakistan','population': 15741000,'fact':'being the Sixith highest population country in the World.'},\n",
    "'cairo': {'country':'Egypt','population':9500000,'fact':' Al-Azhar University which is the second-oldest institution of higher learning in the world'}}\n",
    "for city, city_info in cities.items():\n",
    "    country = city_info['country'].title()\n",
    "    population = city_info['population']\n",
    "    fact = city_info['fact'].title()\n",
    "\n",
    "    print(\"\\n\" + city.title() + \" is in \" + country + \".\")\n",
    "    print(\"  It has a population of about \" + str(population) + \".\")\n",
    "    print(\"  It is known for \" + fact)\n"
   ]
  },
  {
   "cell_type": "code",
   "execution_count": 49,
   "metadata": {},
   "outputs": [
    {
     "name": "stdout",
     "output_type": "stream",
     "text": [
      "Movie Ticket Counter\n",
      "How many tickets are required?:5\n",
      "Enter your age:2\n",
      "No Ticket : Free Admission\n",
      "Enter your age:8\n",
      "Ticket Price is 10$\n",
      "Enter your age:36\n",
      "Ticket price is 15$\n",
      "Enter your age:13\n",
      "Ticket price is 15$\n",
      "Enter your age:9\n",
      "Ticket Price is 10$\n",
      "Enjoy the show\n"
     ]
    }
   ],
   "source": [
    "#Question3:\n",
    "#A movie theater charges different ticket prices depending on a person’s age. If a person is under the age of 3, the ticket is free; if they are between 3 and 12, the ticket is $10; and if they are over age 12, the ticket is $15. Write a loop in which you ask users their age, and then tell them the cost of their movie ticket.\n",
    "#CODE\n",
    "print(\"Movie Ticket Counter\")\n",
    "user=int(input(\"How many tickets are required?:\"))\n",
    "for x in range(user):\n",
    "    age=int(input(\"Enter your age:\"))\n",
    "    if age < 3 :\n",
    "        print(\"No Ticket : Free Admission\")\n",
    "    elif age > 12 :\n",
    "        print(\"Ticket price is 15$\")\n",
    "    else :\n",
    "        print(\"Ticket Price is 10$\")\n",
    "else:\n",
    "    print(\"Enjoy the show\")"
   ]
  },
  {
   "cell_type": "code",
   "execution_count": 56,
   "metadata": {},
   "outputs": [
    {
     "name": "stdout",
     "output_type": "stream",
     "text": [
      "Enter the title of your favourite book :Just Listen\n",
      "Just Listen is one of my favorite books.\n"
     ]
    }
   ],
   "source": [
    "#Question4:\n",
    "#Write a function called favorite_book() that accepts one parameter, title. The function should print a message, such as One of my favorite books is Alice in Wonderland. Call the function, making sure to include a book title as an argument in the function call.\n",
    "#CODE\n",
    "def favorite_book(title):\n",
    "      print(title + \" is one of my favorite books.\")\n",
    "\n",
    "book=input('Enter the title of your favourite book :')\n",
    "favorite_book(book)"
   ]
  },
  {
   "cell_type": "code",
   "execution_count": 64,
   "metadata": {},
   "outputs": [
    {
     "name": "stdout",
     "output_type": "stream",
     "text": [
      "Guess the number lying between 1-10\n",
      "You have three chances\n",
      "Enter number : 5\n",
      "Hmmm,seems a bit higher try again\n",
      "Enter number : 3\n",
      "Woah,the guess needs to be up a notch keep guessing\n",
      "Enter number : 4\n",
      "Congratulations!!,You have guessed the correct number\n"
     ]
    }
   ],
   "source": [
    "#Question5:\n",
    "#Write a program which randomly generate a number between 1 to 30 and ask the user in input field to guess the correct number. Give three chances to user guess the number and also give hint to user if hidden number is greater or smaller than the number he given to input field.\n",
    "#CODE\n",
    "import random\n",
    "x = random.randrange(1,11)\n",
    "print('Guess the number lying between 1-10')\n",
    "print('You have three chances')\n",
    "for i in range(3):\n",
    "    user=int(input(\"Enter number : \"))\n",
    "    if user == x :\n",
    "        print(\"Congratulations!!,You have guessed the correct number\")\n",
    "        break\n",
    "    elif user > x :\n",
    "        print(\"Hmmm,seems a bit higher try again\")\n",
    "    else :\n",
    "        print(\"Woah,the guess needs to be up a notch keep guessing\")\n",
    "else:\n",
    "    print(\"*GAME OVER*\")"
   ]
  },
  {
   "cell_type": "code",
   "execution_count": null,
   "metadata": {},
   "outputs": [],
   "source": []
  },
  {
   "cell_type": "code",
   "execution_count": null,
   "metadata": {},
   "outputs": [],
   "source": []
  }
 ],
 "metadata": {
  "kernelspec": {
   "display_name": "Python 3",
   "language": "python",
   "name": "python3"
  },
  "language_info": {
   "codemirror_mode": {
    "name": "ipython",
    "version": 3
   },
   "file_extension": ".py",
   "mimetype": "text/x-python",
   "name": "python",
   "nbconvert_exporter": "python",
   "pygments_lexer": "ipython3",
   "version": "3.7.4"
  }
 },
 "nbformat": 4,
 "nbformat_minor": 2
}
