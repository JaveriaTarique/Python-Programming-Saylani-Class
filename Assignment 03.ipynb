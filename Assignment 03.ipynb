{
 "cells": [
  {
   "cell_type": "code",
   "execution_count": 2,
   "metadata": {},
   "outputs": [
    {
     "name": "stdout",
     "output_type": "stream",
     "text": [
      "Python Calculator\n",
      "Enter first number: 1\n",
      "Enter second number: 2\n",
      "Select on of the following operation:\n",
      " + for addition\n",
      " - for subtraction\n",
      " * for multiplication\n",
      " / for division\n",
      " ** for power\n",
      "Enter operator to use:**\n",
      "The answer of a ** b is = 1\n"
     ]
    }
   ],
   "source": [
    "#Q1 Make a calculator using Python with addition , subtraction , multiplication , division and power.\n",
    "#CODE\n",
    "print(\"Python Calculator\")\n",
    "a = int(input(\"Enter first number: \"))\n",
    "b = int(input(\"Enter second number: \"))\n",
    "print(\"Select on of the following operation:\\n + for addition\\n - for subtraction\\n * for multiplication\\n / for division\\n ** for power\")\n",
    "c = input(\"Enter operator to use:\")\n",
    "if c == '+':\n",
    "    ans = a+b\n",
    "    print(\"The answer of a\",c,\"b is =\",ans)\n",
    "elif c == '-':\n",
    "    ans = a-b\n",
    "    print(\"The answer of a\",c,\"b is =\",ans)\n",
    "elif c == '*':\n",
    "    ans = a*b\n",
    "    print(\"The answer of a\",c,\"b is =\",ans)\n",
    "elif c == '/':\n",
    "    ans = a/b\n",
    "    print(\"The answer of a\",c,\"b is =\",ans)\n",
    "elif c == '**':\n",
    "    ans = a**b\n",
    "    print(\"The answer of a\",c,\"b is =\",ans)\n",
    "else:\n",
    "    print(\"Invalid input\")"
   ]
  },
  {
   "cell_type": "code",
   "execution_count": 11,
   "metadata": {},
   "outputs": [
    {
     "name": "stdout",
     "output_type": "stream",
     "text": [
      "Progarm to check numeric value in list\n",
      "Enter list values separated by comma : 1,y,7,d,4\n",
      "The numbers list is :  [1, 7, 4]\n"
     ]
    }
   ],
   "source": [
    "#2.Write a program to check if there is any numeric value in list using for loop\n",
    "#CODE\n",
    "print(\"Progarm to check numeric value in list\")\n",
    "string = input(\"Enter list values separated by comma : \")  \n",
    "res = [int(i) for i in string.split(\",\") if i.isdigit()] \n",
    "print(\"The numbers list is : \",str(res))"
   ]
  },
  {
   "cell_type": "code",
   "execution_count": 43,
   "metadata": {},
   "outputs": [
    {
     "name": "stdout",
     "output_type": "stream",
     "text": [
      "Python script to add a key in dictionary\n",
      "Enter number of keys to add :2\n",
      "Enter key value pairs2 3\n",
      "Enter key value pairsj 0\n",
      "The user entered key:values are :  {'2': '3', 'j': '0'}\n"
     ]
    }
   ],
   "source": [
    "#3. Write a Python script to add a key to a dictionary\n",
    "#CODE\n",
    "print(\"Python script to add a key in dictionary\")\n",
    "user_dict = {}\n",
    "n = int(input(\"Enter number of keys to add :\"))\n",
    "for i in range(n) :\n",
    "    string = input('Enter key value pairs')\n",
    "    (key,value) = string.split()\n",
    "    user_dict[key] = value\n",
    "print(\"The user entered key:values are : \",user_dict)"
   ]
  },
  {
   "cell_type": "code",
   "execution_count": 40,
   "metadata": {},
   "outputs": [
    {
     "name": "stdout",
     "output_type": "stream",
     "text": [
      "Program to sum all numbers in a dictionary\n",
      "Enter number of keys to add :2\n",
      "Enter key value pairs's' 9\n",
      "Enter key value pairs'j' 1\n",
      "The total sum key values is : 10\n"
     ]
    }
   ],
   "source": [
    "#4. Write a Python program to sum all the numeric items in a dictionary\n",
    "#CODE\n",
    "print(\"Program to sum all numbers in a dictionary\")\n",
    "user_dict = {}\n",
    "sum = 0\n",
    "n = int(input(\"Enter number of keys to add :\"))\n",
    "for i in range(n) :\n",
    "    string = input('Enter key value pairs')\n",
    "    (key,value) = string.split()\n",
    "    user_dict[key] = value\n",
    "    sum = sum + int(value)\n",
    "print(\"The total sum key values is :\",sum)"
   ]
  },
  {
   "cell_type": "code",
   "execution_count": 74,
   "metadata": {},
   "outputs": [
    {
     "name": "stdout",
     "output_type": "stream",
     "text": [
      "A Program to identify duplicate values from list\n",
      "Enter values in list separated by comma 1,2,3,4,5,3,5,4,6\n",
      "The duplicate value is : 3\n",
      "The duplicate value is : 4\n",
      "The duplicate value is : 5\n"
     ]
    }
   ],
   "source": [
    "#5. Write a program to identify duplicate values from list\n",
    "#CODE\n",
    "print('A Program to identify duplicate values from list')\n",
    "#my_list = [20,30,20,30,40,50,15,11,20,40,50,15]\n",
    "lst = []\n",
    "val = input(\"Enter values in list separated by comma \")\n",
    "lst = [int(x) for x in val.split(\",\")]\n",
    "lst.sort()\n",
    "for i in range (len (lst)-1):\n",
    "    if lst[i] == lst[i+1]:\n",
    "        print(\"The duplicate value is :\",lst[i])"
   ]
  },
  {
   "cell_type": "code",
   "execution_count": 78,
   "metadata": {},
   "outputs": [
    {
     "name": "stdout",
     "output_type": "stream",
     "text": [
      "A Program to to check if a given key already exists in a dictionary\n",
      "Enter key to check:A\n",
      "Key is present and value of the key is: 1\n"
     ]
    }
   ],
   "source": [
    "#6. Write a Python script to check if a given key already exists in a dictionary\n",
    "#CODE\n",
    "print('A Program to to check if a given key already exists in a dictionary')\n",
    "d = {'A':1,'B':2,'C':3} #DUMMY INNITIALIZATION\n",
    "key = input(\"Enter key to check:\")\n",
    "if key in d.keys():\n",
    "      print(\"Key is present and value of the key is:\",d[key])\n",
    "else:\n",
    "      print(\"Key isn't present!\")"
   ]
  },
  {
   "cell_type": "code",
   "execution_count": null,
   "metadata": {},
   "outputs": [],
   "source": []
  }
 ],
 "metadata": {
  "kernelspec": {
   "display_name": "Python 3",
   "language": "python",
   "name": "python3"
  },
  "language_info": {
   "codemirror_mode": {
    "name": "ipython",
    "version": 3
   },
   "file_extension": ".py",
   "mimetype": "text/x-python",
   "name": "python",
   "nbconvert_exporter": "python",
   "pygments_lexer": "ipython3",
   "version": "3.7.4"
  }
 },
 "nbformat": 4,
 "nbformat_minor": 2
}
