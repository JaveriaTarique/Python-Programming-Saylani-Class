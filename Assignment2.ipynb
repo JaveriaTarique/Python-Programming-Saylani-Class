{
 "cells": [
  {
   "cell_type": "code",
   "execution_count": null,
   "metadata": {},
   "outputs": [],
   "source": [
    "#Q1-Write a program which takes 5 inputs from user for different subject’s\n",
    "#marks, total it and generate mark sheet using grades?\n",
    "#CODE:\n",
    "Ma = int(input(\"enter marks of subject 1 : \"))\n",
    "Mb = int(input(\"enter marks of subject 2 : \"))\n",
    "Mc = int(input(\"enter marks of subject 3 : \"))\n",
    "Md = int(input(\"enter marks of subject 4 : \"))\n",
    "Me = int(input(\"enter marks of subject 5 : \"))\n",
    "Mt = int(input(\"enter total marks of all subjects : \"))\n",
    "result = (Ma+Mb+Mc+Md+Me)*100/Mt\n",
    "if result >= 80:\n",
    "    print(\" The student has achieved A1 grade\")\n",
    "elif result >= 70 and result <80:\n",
    "    print(\" The student has achieved A grade\")\n",
    "elif result >= 60 and result <70:\n",
    "    print(\" The student has achieved B grade\")\n",
    "elif result >= 50 and result <60:\n",
    "    print(\" The student has achieved C grade\")\n",
    "elif result >= 40 and result <50:\n",
    "    print(\" The student has achieved D grade\")\n",
    "elif result < 40 :\n",
    "    print(\" The student has FAILED\")\n",
    "else :\n",
    "    print(\"Enter valid numeral\")"
   ]
  },
  {
   "cell_type": "code",
   "execution_count": null,
   "metadata": {},
   "outputs": [],
   "source": [
    "#Q2-Write a program which take input from user and identify that the given\n",
    "#number is even or odd?\n",
    "#CODE:\n",
    "print(\"A program to check whether a number is even or odd \\n\")\n",
    "number=int(input(\"Enter a number : \"))\n",
    "if number%2 == 0:\n",
    "    print(\"The number entered is Even\")\n",
    "elif number%2 == 1:\n",
    "    print(\"The number entered is Odd\")\n",
    "else :\n",
    "    print(\"You have not entered a valid number\")"
   ]
  },
  {
   "cell_type": "code",
   "execution_count": null,
   "metadata": {},
   "outputs": [],
   "source": [
    "#Q3-Write a program which print the length of the list?\n",
    "#CODE:\n",
    "print(\"A program to return the length of list \\n\")\n",
    "array = input(\"Enter elements of lists separated by comma : \")\n",
    "list = array.split (\",\")\n",
    "print (\"The entered elements of lists are : \",list)\n",
    "print(\"The length of entered list is : \",len(list))"
   ]
  },
  {
   "cell_type": "code",
   "execution_count": null,
   "metadata": {},
   "outputs": [],
   "source": [
    "#Q4-Write a Python program to sum all the numeric items in a list?\n",
    "#CODE:\n",
    "print(\"A program to sum the numeric items of list \\n\")\n",
    "array = input(\"Enter elements of lists separated by comma : \")\n",
    "lis = array.split (\",\")\n",
    "result = map(int, lis)\n",
    "print (\"The entered elements of lists are : \",lis)\n",
    "print(\"The sum of entered list is : \",sum(result))"
   ]
  },
  {
   "cell_type": "code",
   "execution_count": null,
   "metadata": {},
   "outputs": [],
   "source": [
    "'''Q5-Write a Python program to get the largest number from a numeric list.\n",
    "CODE\n",
    "'''\n",
    "print(\"A program to get the largest number of the list \\n\")\n",
    "array = input(\"Enter elements of lists separated by comma : \")\n",
    "lis = array.split (\",\")\n",
    "print(\"The largest number of the list is :\",max(lis))"
   ]
  },
  {
   "cell_type": "code",
   "execution_count": null,
   "metadata": {},
   "outputs": [],
   "source": [
    "'''Q6-Take a list, say for example this one:\n",
    "a = [1, 1, 2, 3, 5, 8, 13, 21, 34, 55, 89]\n",
    "and write a program that prints out all the elements of the list that are\n",
    "less than 5.\n",
    "CODE\n",
    "'''\n",
    "print(\"A program to get number lesser than 5 of the list a = [1, 1, 2, 3, 5, 8, 13, 21, 34, 55, 89] \\n\")\n",
    "a = [1, 1, 2, 3, 5, 8, 13, 21, 34, 55, 89]\n",
    "k=5\n",
    "c=[i for i in a if i < k]\n",
    "print(\"The values lesser than 5 are :\",c)"
   ]
  },
  {
   "cell_type": "code",
   "execution_count": null,
   "metadata": {},
   "outputs": [],
   "source": []
  },
  {
   "cell_type": "code",
   "execution_count": null,
   "metadata": {},
   "outputs": [],
   "source": []
  }
 ],
 "metadata": {
  "kernelspec": {
   "display_name": "Python 3",
   "language": "python",
   "name": "python3"
  },
  "language_info": {
   "codemirror_mode": {
    "name": "ipython",
    "version": 3
   },
   "file_extension": ".py",
   "mimetype": "text/x-python",
   "name": "python",
   "nbconvert_exporter": "python",
   "pygments_lexer": "ipython3",
   "version": "3.7.4"
  }
 },
 "nbformat": 4,
 "nbformat_minor": 2
}
