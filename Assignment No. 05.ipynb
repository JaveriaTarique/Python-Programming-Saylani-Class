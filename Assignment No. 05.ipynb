{
 "cells": [
  {
   "cell_type": "code",
   "execution_count": 1,
   "metadata": {},
   "outputs": [
    {
     "name": "stdout",
     "output_type": "stream",
     "text": [
      "Factorial Calculation Program\n",
      "Enter number for factorial calculation4\n",
      "The factorial of 4 is 24\n"
     ]
    }
   ],
   "source": [
    "# Question:1\n",
    "# Write a Python function to calculate the factorial of a number (a non-negative integer). The function accepts the number as an argument.\n",
    "# CODE\n",
    "\n",
    "def factorial (x) :\n",
    "    ans = 1\n",
    "    for i in range(1,x + 1):\n",
    "        ans = ans*i\n",
    "    print(\"The factorial of\",inp,\"is\",ans)\n",
    "    \n",
    "print(\"Factorial Calculation Program\")\n",
    "inp = int(input(\"Enter number for factorial calculation\"))\n",
    "factorial(inp)"
   ]
  },
  {
   "cell_type": "code",
   "execution_count": 2,
   "metadata": {},
   "outputs": [
    {
     "name": "stdout",
     "output_type": "stream",
     "text": [
      "Case Sensitive Program\n",
      "Enter your sentenceThe oLd MaN iS GruMpY\n",
      "Original String :  The oLd MaN iS GruMpY\n",
      "No. of Upper case characters :  8\n",
      "No. of Lower case Characters :  9\n"
     ]
    }
   ],
   "source": [
    "#Question:2 \n",
    "#Write a Python function that accepts a string and calculate the number of upper case letters and lower case letters.\n",
    "#CODE\n",
    "\n",
    "def sentence(s):\n",
    "    d={\"UPPER_CASE\":0, \"LOWER_CASE\":0}\n",
    "    for c in s:\n",
    "        if c.isupper():\n",
    "           d[\"UPPER_CASE\"]+=1\n",
    "        elif c.islower():\n",
    "           d[\"LOWER_CASE\"]+=1\n",
    "        else:\n",
    "            pass\n",
    "    print (\"Original String : \", s)\n",
    "    print (\"No. of Upper case characters : \", d[\"UPPER_CASE\"])\n",
    "    print (\"No. of Lower case Characters : \", d[\"LOWER_CASE\"])\n",
    "\n",
    "print(\"Case Sensitive Program\")\n",
    "inp=input(\"Enter your sentence\")\n",
    "sentence(inp)"
   ]
  },
  {
   "cell_type": "code",
   "execution_count": 6,
   "metadata": {},
   "outputs": [
    {
     "name": "stdout",
     "output_type": "stream",
     "text": [
      "Enter elements of List: 2 3 4 5 5 6 7\n",
      "List of even number:  [2, 4, 6]\n"
     ]
    }
   ],
   "source": [
    "#Question:3\n",
    "#Write a Python function to print the even numbers from a given list.\n",
    "#CODE\n",
    "\n",
    "def evnum (A) :\n",
    "    B=[]\n",
    "    for j in A:\n",
    "        if j%2==0:\n",
    "            B.append(j)      \n",
    "    print('List of even number: ',B)\n",
    "\n",
    "x = list(map(int,input('Enter elements of List: ').split()))\n",
    "evnum (x)"
   ]
  },
  {
   "cell_type": "code",
   "execution_count": 8,
   "metadata": {},
   "outputs": [
    {
     "name": "stdout",
     "output_type": "stream",
     "text": [
      "Enter the desired word madam\n",
      "is a valid palindrome\n"
     ]
    }
   ],
   "source": [
    "#Question:4\n",
    "#Write a Python function that checks whether a passed string is palindrome or not\n",
    "#CODE\n",
    "\n",
    "def Palindrome(word):\n",
    "    left_pos = 0\n",
    "    right_pos = len(word) - 1\n",
    "    while right_pos >= left_pos:\n",
    "        if word[left_pos] == word[right_pos]:\n",
    "            left_pos += 1\n",
    "            right_pos -= 1\n",
    "            return \"is a valid palindrome\"\n",
    "        else:\n",
    "            return \"Not a palindrome\"\n",
    "        \n",
    "\n",
    "x = input(\"Enter the desired word \")\n",
    "print(Palindrome(x))"
   ]
  },
  {
   "cell_type": "code",
   "execution_count": 11,
   "metadata": {},
   "outputs": [
    {
     "name": "stdout",
     "output_type": "stream",
     "text": [
      "Prime Number Checker\n",
      "Enter the number 8\n",
      "Not a Prime Number\n"
     ]
    }
   ],
   "source": [
    "#Question:5 \n",
    "#Write a Python function that takes a number as a parameter and check the number is prime or not\n",
    "#CODE\n",
    "\n",
    "def prime(n):\n",
    "    for x in range(2,n):\n",
    "        if(n % x==0):\n",
    "            return \"Not a Prime Number\"\n",
    "        return \"Is a Prime Number\" \n",
    "    else:\n",
    "        return \"Not a Prime Number\"\n",
    "\n",
    "print(\"Prime Number Checker\")\n",
    "num = int(input(\"Enter the number \"))\n",
    "print(prime(num))"
   ]
  },
  {
   "cell_type": "code",
   "execution_count": 10,
   "metadata": {},
   "outputs": [
    {
     "name": "stdout",
     "output_type": "stream",
     "text": [
      "Enter customer name: ABC XYZ\n",
      "Enter current date: 01/01/2019\n",
      "Enter day of the week: TUESDAY\n",
      "Enter shopping items: Meat,Pudding,Cake,Cabbage,Spinach,Eggs,Poultry\n",
      "**SHOPPING RECIPT**\n",
      "Customer Name: ABC XYZ\n",
      "Generated on: TUESDAY\n",
      "Day of Week: TUESDAY\n",
      "Shopping Items list\n",
      "Meat,Pudding,Cake,Cabbage,Spinach,Eggs,Poultry\n"
     ]
    }
   ],
   "source": [
    "# Question 6:\n",
    "#Write a function which accepts the multiple arguments of user shopping list and print all the items which user bought from market.\n",
    "#CODE\n",
    "\n",
    "def shopping(name,date,day,*items):\n",
    "    print(\"**SHOPPING RECIPT**\")\n",
    "    print(\"Customer Name: \"+name)\n",
    "    print(\"Generated on: \"+date)\n",
    "    print(\"Day of Week: \" +day)\n",
    "    print(\"Shopping Items list\")   \n",
    "    for item in items:\n",
    "        print(item)\n",
    "    \n",
    "\n",
    "name = input(\"Enter customer name: \")\n",
    "date = input(\"Enter current date: \")\n",
    "day = input(\"Enter day of the week: \")\n",
    "cart = input(\"Enter shopping items: \")\n",
    "shopping(name,day,day,cart)"
   ]
  },
  {
   "cell_type": "code",
   "execution_count": null,
   "metadata": {},
   "outputs": [],
   "source": []
  },
  {
   "cell_type": "code",
   "execution_count": null,
   "metadata": {},
   "outputs": [],
   "source": []
  },
  {
   "cell_type": "code",
   "execution_count": null,
   "metadata": {},
   "outputs": [],
   "source": []
  },
  {
   "cell_type": "code",
   "execution_count": null,
   "metadata": {},
   "outputs": [],
   "source": []
  },
  {
   "cell_type": "code",
   "execution_count": null,
   "metadata": {},
   "outputs": [],
   "source": []
  },
  {
   "cell_type": "code",
   "execution_count": null,
   "metadata": {},
   "outputs": [],
   "source": []
  }
 ],
 "metadata": {
  "kernelspec": {
   "display_name": "Python 3",
   "language": "python",
   "name": "python3"
  },
  "language_info": {
   "codemirror_mode": {
    "name": "ipython",
    "version": 3
   },
   "file_extension": ".py",
   "mimetype": "text/x-python",
   "name": "python",
   "nbconvert_exporter": "python",
   "pygments_lexer": "ipython3",
   "version": "3.7.4"
  }
 },
 "nbformat": 4,
 "nbformat_minor": 2
}
