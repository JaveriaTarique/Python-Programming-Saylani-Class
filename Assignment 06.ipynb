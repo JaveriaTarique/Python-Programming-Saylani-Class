{
 "cells": [
  {
   "cell_type": "code",
   "execution_count": 7,
   "metadata": {},
   "outputs": [
    {
     "name": "stdout",
     "output_type": "stream",
     "text": [
      "The condition of WagonR is Zero Meter \n",
      "The Alto has 6 passenger seating space\n",
      "The price of eco is 640000 \n"
     ]
    }
   ],
   "source": [
    "'''\n",
    "Question 1: Define Object Oriented Programming Language?\n",
    "Answer:\n",
    "Object Oriented Programming (OOP) is a paradigm in which real-world objects are each viewed as separate entities having their own state which is modified only by built in procedures called methods.\n",
    "\n",
    "Question 2: List down the Benefits of OOP?\n",
    "Answer:\n",
    "- Modular approach or segmented code aids in troubleshooting\n",
    "- Reuse of code through inheritance\n",
    "- Flexibility through polymorphism\n",
    "- Effective problem solving.\n",
    "\n",
    "Question 3: Differentiate between function and method?\n",
    "Answer:\n",
    "Functions are defined outside of classes, while Methods are defined inside of and part of classes\n",
    "\n",
    "Question 4: Define the following terms: \n",
    "Class:\n",
    "It is a template or blueprint about the capability of what an object can do.\n",
    "Object:\n",
    "An object (instance) is an instantiation of a class. When class is defined, only the description for the object is defined. Therefore, no memory or storage is allocated.\n",
    "Attribute:\n",
    "Attributes are data stored inside a class or instance and represent the state or quality of the class or instance. In short, attributes store information about the instance.\n",
    "Behavior:\n",
    "Behavior is the only way objects can do anything to themselves or have anything done to them.\n",
    "\n",
    "'''\n",
    "#Question 5: \n",
    "#Write a code in python in which create a class named it Car which have 5 attributes such like (model, color and name etc.) and 3 methods. And create 5 object instance from that class.\n",
    "#CODE\n",
    "\n",
    "class Cars:\n",
    "\n",
    "    def __init__(self,name,color,model,manufacturer,year):\n",
    "        self.name = name\n",
    "        self.color = color\n",
    "        self.model = model\n",
    "        self.manufacturer = manufacturer\n",
    "        self.year = year\n",
    "    \n",
    "    def status(self, cond): \n",
    "        return \"The condition of {} is {} \".format(self.name,cond)\n",
    "\n",
    "    def price(self, prc):\n",
    "        return \"The price of {} is {} \".format(self.model,prc)\n",
    "    \n",
    "    def capacity(self,num):\n",
    "        return \"The {} has {} passenger seating space\".format(self.name,num)\n",
    "    \n",
    "A = Cars(\"WagonR\",\"Blue\",\"VXL\",\"Suzuki\",2018)\n",
    "B = Cars(\"Alto\",\"White\",\"Hybrid\",\"Suzuki\",2019)\n",
    "C = Cars(\"BRV\",\"Black\",\"Hybrid\",\"Honda\",2016)\n",
    "D = Cars(\"Corolla\",\"Blue\",\"Automatic\",\"Toyota\",2008)\n",
    "E = Cars(\"Move\",\"White\",\"eco\",\"Dihiatsu\",2017)\n",
    "\n",
    "\n",
    "print(A.status(\"Zero Meter\"))\n",
    "print(B.capacity(6))\n",
    "print(E.price(640000))"
   ]
  },
  {
   "cell_type": "code",
   "execution_count": null,
   "metadata": {},
   "outputs": [],
   "source": []
  }
 ],
 "metadata": {
  "kernelspec": {
   "display_name": "Python 3",
   "language": "python",
   "name": "python3"
  },
  "language_info": {
   "codemirror_mode": {
    "name": "ipython",
    "version": 3
   },
   "file_extension": ".py",
   "mimetype": "text/x-python",
   "name": "python",
   "nbconvert_exporter": "python",
   "pygments_lexer": "ipython3",
   "version": "3.7.4"
  }
 },
 "nbformat": 4,
 "nbformat_minor": 2
}
